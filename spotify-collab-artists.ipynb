{
 "cells": [
  {
   "cell_type": "markdown",
   "metadata": {},
   "source": [
    "In this notebook, I will be using the Spotify data from Kaggle to identify the top most popular/influential artists for collaborations. This will be done by transforming the data into a network of artists connected by collaborations weighted by popularity.\n",
    "\n",
    "\"Collaboration is an artist's best friend in today's music economy. From widening an artist's audience to prolonging success, a rising tide really does lift all boats.\" This is known as the “collaboration phenomenon.\"\n",
    "\n",
    "Collaborations in songs have become a huge trend in the music industry as it adds extra excitement, marketability and versatility, combining the fanbases of the collab artists. With the vast amount of music available to us through streaming, a feature or collaboration is usually a key way to stand out.\n",
    "\n",
    "Many artists also gain or give recognition through collaborations and features, and thus seeing the top artists grouped by popularity is one indication of their influence in the collaboration space.\n",
    "\n",
    "Check out https://blog.chartmetric.com/the-evolving-role-of-music-artist-collaborations/ for more info on the history and importance of collaborations."
   ]
  },
  {
   "cell_type": "code",
   "execution_count": 2,
   "metadata": {},
   "outputs": [],
   "source": [
    "import pandas as pd\n",
    "import numpy as np\n",
    "import networkx as nx\n",
    "import itertools\n",
    "import operator"
   ]
  },
  {
   "cell_type": "code",
   "execution_count": 3,
   "metadata": {},
   "outputs": [],
   "source": [
    "# Read the data\n",
    "raw_data = pd.read_csv(\"Data/data.csv\")"
   ]
  },
  {
   "cell_type": "code",
   "execution_count": 4,
   "metadata": {},
   "outputs": [],
   "source": [
    "# We are only looking at the artists and popularity columns\n",
    "spotify_data = raw_data[[\"artists\", \"popularity\"]]"
   ]
  },
  {
   "cell_type": "code",
   "execution_count": 5,
   "metadata": {},
   "outputs": [],
   "source": [
    "# Only take/count songs that are collaborations in the data. \n",
    "# We transform the data into lists as this is easier to work with than growing a df.\n",
    "collab_artists = []\n",
    "for row in spotify_data.values:\n",
    "    if len(row[0].split(',')) > 1:\n",
    "        collab_artists.append(row)"
   ]
  },
  {
   "cell_type": "code",
   "execution_count": 6,
   "metadata": {},
   "outputs": [],
   "source": [
    "# Clean the strings in the list as they were messy strings instead of lists in the raw data\n",
    "clean_data = []\n",
    "for row in collab_artists:\n",
    "    temp = []\n",
    "    for artist in row[0].split(','):\n",
    "        temp.append(artist.replace('[', '').replace(\"'\", '').replace(']', '').strip())\n",
    "    clean_data.append([temp, row[1]])"
   ]
  },
  {
   "cell_type": "code",
   "execution_count": 7,
   "metadata": {},
   "outputs": [],
   "source": [
    "# Create new list of unique artists, since we only want one artist per node\n",
    "unique_artists = []\n",
    "for row in clean_data:\n",
    "    for artist in row[0]:\n",
    "        if artist not in unique_artists:\n",
    "            unique_artists.append(artist)"
   ]
  },
  {
   "cell_type": "code",
   "execution_count": 8,
   "metadata": {},
   "outputs": [],
   "source": [
    "# Create the graph and add the nodes\n",
    "G = nx.Graph()\n",
    "for artist in unique_artists:\n",
    "    G.add_node(artist)"
   ]
  },
  {
   "cell_type": "code",
   "execution_count": 9,
   "metadata": {},
   "outputs": [],
   "source": [
    "# Create list of edges where each edge is a list containing [Node1, Node2, weight]\n",
    "edge_list = []\n",
    "for row in clean_data:\n",
    "    combinations = itertools.combinations(row[0], 2)\n",
    "    for pair in combinations:\n",
    "        edge_list.append([pair[0], pair[1], row[1]])"
   ]
  },
  {
   "cell_type": "code",
   "execution_count": 10,
   "metadata": {},
   "outputs": [],
   "source": [
    "# Add the edges including the weights \n",
    "for edge in edge_list:\n",
    "    G.add_edge(edge[0], edge[1], weight = edge[2])"
   ]
  },
  {
   "cell_type": "code",
   "execution_count": 11,
   "metadata": {},
   "outputs": [],
   "source": [
    "# Aggregate the weights (popularity) by node (artist)\n",
    "popular_artists = []\n",
    "for artist in unique_artists:\n",
    "    popularity = 0\n",
    "    for node in G.neighbors(artist):\n",
    "        popularity += G.get_edge_data(artist, node)['weight'] \n",
    "    artist_info = [artist, popularity]\n",
    "    popular_artists.append(artist_info)"
   ]
  },
  {
   "cell_type": "code",
   "execution_count": 13,
   "metadata": {},
   "outputs": [
    {
     "data": {
      "text/plain": [
       "[['Wolfgang Amadeus Mozart', 9885],\n",
       " ['Lil Wayne', 5449],\n",
       " ['Kanye West', 5185],\n",
       " ['Snoop Dogg', 5165],\n",
       " ['Johann Sebastian Bach', 4963],\n",
       " ['Drake', 4714],\n",
       " ['JAY-Z', 3914],\n",
       " ['Nicki Minaj', 3834],\n",
       " ['2Pac', 3695],\n",
       " ['Eminem', 3505],\n",
       " ['Chris Brown', 3474],\n",
       " ['Future', 3335],\n",
       " ['Ludwig van Beethoven', 3311],\n",
       " ['Kendrick Lamar', 3293],\n",
       " ['Ty Dolla $ign', 3232],\n",
       " ['Travis Scott', 3128],\n",
       " ['Bad Bunny', 3086],\n",
       " ['Ludacris', 3050],\n",
       " ['A$AP Rocky', 2989],\n",
       " ['Justin Bieber', 2979]]"
      ]
     },
     "execution_count": 13,
     "metadata": {},
     "output_type": "execute_result"
    }
   ],
   "source": [
    "# Output the most popular/influential artists based on collaborations\n",
    "results = sorted(popular_artists, key=operator.itemgetter(1), reverse=True)\n",
    "results[:20]"
   ]
  },
  {
   "cell_type": "markdown",
   "metadata": {},
   "source": [
    "The top 10 most popular collab artists are:\n",
    "1. Wolfgang Amadeus Mozart\n",
    "2. Lil Wayne\n",
    "3. Kanye West\n",
    "4. Snoop Dogg\n",
    "5. Johann Sebastian Bach\n",
    "6. Drake\n",
    "7. JAY-Z\n",
    "8. Nicki Minaj\n",
    "9. 2Pac\n",
    "10. Eminem"
   ]
  },
  {
   "cell_type": "markdown",
   "metadata": {},
   "source": [
    "Results and Discussion: Most of the artists in the top 10 are known to make HipHop/Rap styles of music, which is to be expected as this is the most popular genre in the recent years and is an industry that also thrives on collaborations. \n",
    "\n",
    "Surprisingly however, there are a few classical musicians, with Wolfgang Amadeus Mozart being the most popular collab artist beating out artists such as Lil Wayne aand Kanye West that are known for their hit songs with collaborations and using collabs to give recognition to smaller artists.\n",
    "\n",
    "However, this analysis is not foolproof as it has very limited EDA and does not adjust for the popularity by volume of songs, which was a calculated decision by myself as I believed the volume of collab songs by an artist should be a factor. Furthermore it does not take into account the difference in definitions of a \"collaboration\" between generations, which could explain why Mozart is ranked #1."
   ]
  }
 ],
 "metadata": {
  "kernelspec": {
   "display_name": "Python 3",
   "language": "python",
   "name": "python3"
  },
  "language_info": {
   "codemirror_mode": {
    "name": "ipython",
    "version": 3
   },
   "file_extension": ".py",
   "mimetype": "text/x-python",
   "name": "python",
   "nbconvert_exporter": "python",
   "pygments_lexer": "ipython3",
   "version": "3.7.6"
  }
 },
 "nbformat": 4,
 "nbformat_minor": 4
}
